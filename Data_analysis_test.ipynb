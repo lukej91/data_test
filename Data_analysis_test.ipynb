{
 "cells": [
  {
   "cell_type": "markdown",
   "metadata": {},
   "source": [
    "# Data Analysis\n",
    "Import the libraries that will be used to try an explore the data"
   ]
  },
  {
   "cell_type": "code",
   "execution_count": 1,
   "metadata": {
    "collapsed": true
   },
   "outputs": [],
   "source": [
    "import numpy as np\n",
    "\n",
    "#import pandad used for data frames to import and store the data set\n",
    "import pandas as pd\n",
    "\n",
    "#import re used for splitting up the time ordered into day month year\n",
    "import re\n",
    "\n",
    "#used to display pd dataframes\n",
    "from IPython.display import display"
   ]
  },
  {
   "cell_type": "markdown",
   "metadata": {},
   "source": [
    "## Import Data\n",
    "Next import the provided .csv file and store it in a pandas dataframe object"
   ]
  },
  {
   "cell_type": "code",
   "execution_count": 2,
   "metadata": {
    "collapsed": false
   },
   "outputs": [],
   "source": [
    "data = pd.read_csv('data.csv')\n"
   ]
  },
  {
   "cell_type": "markdown",
   "metadata": {},
   "source": [
    "Once the data is in a dataframe some simple analysis can be easily done. The mean, median and count of values can be easily calculated. "
   ]
  },
  {
   "cell_type": "code",
   "execution_count": 3,
   "metadata": {
    "collapsed": false
   },
   "outputs": [
    {
     "name": "stdout",
     "output_type": "stream",
     "text": [
      "38    913\n",
      "Name: Product, dtype: int64\n",
      "38    23\n",
      "Name: Product, dtype: int64\n",
      "1\n",
      "8\n",
      "1.43702081051\n"
     ]
    }
   ],
   "source": [
    "#Print how many orders for each product\n",
    "print(data[\"Product\"].value_counts())\n",
    "\n",
    "\n",
    "#Print how many orders from each Restruaunt\n",
    "#print(data[\"Restaurant\"].value_counts())\n",
    "\n",
    "#Print how many order from restruaunt for each product is there for restruant 8\n",
    "print(data[\"Product\"][data[\"Restaurant\"] == 8].value_counts())\n",
    "\n",
    "#print Quantity min, max, mean\n",
    "print(data[\" Quantity\"].min())\n",
    "print(data[\" Quantity\"].max())\n",
    "print(data[\" Quantity\"].mean())"
   ]
  },
  {
   "cell_type": "markdown",
   "metadata": {},
   "source": [
    "At the moment the column \"Ordered At\" is storing a string value as can be seen below."
   ]
  },
  {
   "cell_type": "code",
   "execution_count": 4,
   "metadata": {
    "collapsed": false
   },
   "outputs": [
    {
     "data": {
      "text/plain": [
       "str"
      ]
     },
     "execution_count": 4,
     "metadata": {},
     "output_type": "execute_result"
    }
   ],
   "source": [
    "type(data[\"Ordered At\"][0])"
   ]
  },
  {
   "cell_type": "markdown",
   "metadata": {},
   "source": [
    "This should be converted to a timestamp object as this will make the data more easy to use. "
   ]
  },
  {
   "cell_type": "code",
   "execution_count": 5,
   "metadata": {
    "collapsed": false
   },
   "outputs": [],
   "source": [
    "def convert_timestamp(data):\n",
    "    \n",
    "    #Create new empty column in data set to store new timestamp object.\n",
    "    if \"Time Stamp\" not in list(data.columns):\n",
    "        data[\"Time Stamp\"] = np.nan\n",
    "\n",
    "\n",
    "    #Convert the string in the \"Ordered At\" column into a Pandas datestamp object and store\n",
    "    # in new column\n",
    "\n",
    "    for index, timestamp in data[\"Ordered At\"].iteritems():\n",
    "    \n",
    "        #timestamp objects are in the form of US dates so convert the string into US date by switching the day and month\n",
    "        timestampTemp = timestamp.split(\"/\")\n",
    "        timestampTemp1 = str(timestampTemp[1] + \"/\" + timestampTemp[0] + \"/\" + timestampTemp[2])\n",
    "    \n",
    "        #convert new string into timestamp object and store in new time stamp column\n",
    "        data.set_value(index,\"Time Stamp\",pd.Timestamp(timestampTemp1))\n",
    "    \n",
    "    return data"
   ]
  },
  {
   "cell_type": "code",
   "execution_count": 7,
   "metadata": {
    "collapsed": false
   },
   "outputs": [
    {
     "data": {
      "text/html": [
       "<div>\n",
       "<table border=\"1\" class=\"dataframe\">\n",
       "  <thead>\n",
       "    <tr style=\"text-align: right;\">\n",
       "      <th></th>\n",
       "      <th>Restaurant</th>\n",
       "      <th>Product</th>\n",
       "      <th>Quantity</th>\n",
       "      <th>Price</th>\n",
       "      <th>Ordered At</th>\n",
       "      <th>Time Stamp</th>\n",
       "    </tr>\n",
       "  </thead>\n",
       "  <tbody>\n",
       "    <tr>\n",
       "      <th>0</th>\n",
       "      <td>8</td>\n",
       "      <td>38</td>\n",
       "      <td>1</td>\n",
       "      <td>37.0</td>\n",
       "      <td>11/09/16 23:42</td>\n",
       "      <td>2016-09-11 23:42:00</td>\n",
       "    </tr>\n",
       "    <tr>\n",
       "      <th>1</th>\n",
       "      <td>161</td>\n",
       "      <td>38</td>\n",
       "      <td>1</td>\n",
       "      <td>54.5</td>\n",
       "      <td>12/09/16 15:37</td>\n",
       "      <td>2016-09-12 15:37:00</td>\n",
       "    </tr>\n",
       "    <tr>\n",
       "      <th>2</th>\n",
       "      <td>177</td>\n",
       "      <td>38</td>\n",
       "      <td>1</td>\n",
       "      <td>39.0</td>\n",
       "      <td>12/09/16 15:38</td>\n",
       "      <td>2016-09-12 15:38:00</td>\n",
       "    </tr>\n",
       "    <tr>\n",
       "      <th>3</th>\n",
       "      <td>28</td>\n",
       "      <td>38</td>\n",
       "      <td>1</td>\n",
       "      <td>40.0</td>\n",
       "      <td>12/09/16 15:53</td>\n",
       "      <td>2016-09-12 15:53:00</td>\n",
       "    </tr>\n",
       "    <tr>\n",
       "      <th>4</th>\n",
       "      <td>202</td>\n",
       "      <td>38</td>\n",
       "      <td>1</td>\n",
       "      <td>54.5</td>\n",
       "      <td>12/09/16 16:03</td>\n",
       "      <td>2016-09-12 16:03:00</td>\n",
       "    </tr>\n",
       "  </tbody>\n",
       "</table>\n",
       "</div>"
      ],
      "text/plain": [
       "   Restaurant  Product   Quantity  Price      Ordered At           Time Stamp\n",
       "0           8       38          1   37.0  11/09/16 23:42  2016-09-11 23:42:00\n",
       "1         161       38          1   54.5  12/09/16 15:37  2016-09-12 15:37:00\n",
       "2         177       38          1   39.0  12/09/16 15:38  2016-09-12 15:38:00\n",
       "3          28       38          1   40.0  12/09/16 15:53  2016-09-12 15:53:00\n",
       "4         202       38          1   54.5  12/09/16 16:03  2016-09-12 16:03:00"
      ]
     },
     "execution_count": 7,
     "metadata": {},
     "output_type": "execute_result"
    }
   ],
   "source": [
    "data = convert_timestamp(data)\n",
    "data.head()"
   ]
  },
  {
   "cell_type": "markdown",
   "metadata": {
    "collapsed": false
   },
   "source": [
    "As the times stamp is now stored as a timestamp object it is easier to pick out the month, day or year."
   ]
  },
  {
   "cell_type": "code",
   "execution_count": 8,
   "metadata": {
    "collapsed": false
   },
   "outputs": [
    {
     "name": "stdout",
     "output_type": "stream",
     "text": [
      "11\n",
      "9\n",
      "2016\n"
     ]
    }
   ],
   "source": [
    "print(data[\"Time Stamp\"][0].day)\n",
    "print(data[\"Time Stamp\"][0].month)\n",
    "print(data[\"Time Stamp\"][0].year)"
   ]
  },
  {
   "cell_type": "markdown",
   "metadata": {},
   "source": [
    "You can also then find out the amount of time between two timestamps"
   ]
  },
  {
   "cell_type": "code",
   "execution_count": 9,
   "metadata": {
    "collapsed": false
   },
   "outputs": [
    {
     "name": "stdout",
     "output_type": "stream",
     "text": [
      "-54 days +02:35:00\n",
      "-54\n",
      "9300\n"
     ]
    }
   ],
   "source": [
    "print((data[\"Time Stamp\"][0] - data[\"Time Stamp\"][200]))\n",
    "print((data[\"Time Stamp\"][0] - data[\"Time Stamp\"][200]).days)\n",
    "print((data[\"Time Stamp\"][0] - data[\"Time Stamp\"][200]).seconds)"
   ]
  },
  {
   "cell_type": "markdown",
   "metadata": {},
   "source": [
    "And also the min or max timestamp"
   ]
  },
  {
   "cell_type": "code",
   "execution_count": 10,
   "metadata": {
    "collapsed": false
   },
   "outputs": [
    {
     "name": "stdout",
     "output_type": "stream",
     "text": [
      "2016-09-11 23:42:00\n",
      "2017-02-06 17:37:00\n"
     ]
    }
   ],
   "source": [
    "print(data[\"Time Stamp\"].min())\n",
    "print(data[\"Time Stamp\"].max())\n"
   ]
  },
  {
   "cell_type": "code",
   "execution_count": null,
   "metadata": {
    "collapsed": false
   },
   "outputs": [],
   "source": [
    "#print all orders by restaurant 8\n",
    "display(data[(data[\"Restaurant\"] == 8) & (data[\"Product\"]==38)])\n",
    "restaurant8 = data[(data[\"Restaurant\"] == 8) & (data[\"Product\"]==38)]"
   ]
  },
  {
   "cell_type": "markdown",
   "metadata": {},
   "source": [
    "A function can be created which takes the dataset, restaurant number, & product number, and returns the data set but with an additional column stating when the next order of this product was placed by the same restaurant."
   ]
  },
  {
   "cell_type": "code",
   "execution_count": 11,
   "metadata": {
    "collapsed": false
   },
   "outputs": [],
   "source": [
    "def add_next_order_date (data, restaurant, product):\n",
    "    \"\"\"\n",
    "    Function that takes a data set and returns the same data set but with a new column giving the next order date next to \n",
    "    the product number given.\n",
    "    \n",
    "    \"\"\"\n",
    "    #If the next order date column exists do nothing, else create it and fill with blanks\n",
    "    if \"Next Order Date\" not in list(data.columns):\n",
    "        data[\"Next Order Date\"] = np.nan\n",
    "    \n",
    "    #a temp data set is created to filter out the resturaunt orders of the requested preoduct\n",
    "    tempData = data[(data[\"Restaurant\"] == restaurant) & (data[\"Product\"]==product)]\n",
    "    \n",
    "    #a for loop is used to loop through each of the items in the temp data set. The temp data set has the same index values\n",
    "    #as in the original data set\n",
    "    \n",
    "    for index, timestamp in tempData[\"Time Stamp\"].iteritems():\n",
    "        \n",
    "        # a blank list is used and then filled with every timestamp found to be larger than the one for the order\n",
    "        timestamp_list = []\n",
    "        next_order_found = False\n",
    "        \n",
    "        #another for loop is used to compare the time stamp of the order being considered to all other\n",
    "        #orders of that product from that restaurant. This may not be very efficient and could maybe\n",
    "        #be improved \n",
    "        for index2, timestamp2 in tempData[\"Time Stamp\"].iteritems():\n",
    "            \n",
    "            #if the timestamp is greater i.e after the order timestamp add it to the list\n",
    "            if timestamp2 > timestamp:\n",
    "                timestamp_list.append(timestamp2)\n",
    "                next_order_found = True\n",
    "        #this if function means that the latest order of that product can be identified as\n",
    "        #the column will still have the nan object in it.\n",
    "        \n",
    "        if next_order_found:\n",
    "            #set the value of the next order date in the original data set to the minimum greater \n",
    "            #date found through the search\n",
    "            data.set_value(index,\"Next Order Date\",min(timestamp_list))     \n",
    "\n",
    "    return data"
   ]
  },
  {
   "cell_type": "code",
   "execution_count": 12,
   "metadata": {
    "collapsed": true
   },
   "outputs": [],
   "source": [
    "data_test = data"
   ]
  },
  {
   "cell_type": "code",
   "execution_count": 13,
   "metadata": {
    "collapsed": false
   },
   "outputs": [
    {
     "data": {
      "text/html": [
       "<div>\n",
       "<table border=\"1\" class=\"dataframe\">\n",
       "  <thead>\n",
       "    <tr style=\"text-align: right;\">\n",
       "      <th></th>\n",
       "      <th>Restaurant</th>\n",
       "      <th>Product</th>\n",
       "      <th>Quantity</th>\n",
       "      <th>Price</th>\n",
       "      <th>Ordered At</th>\n",
       "      <th>Time Stamp</th>\n",
       "    </tr>\n",
       "  </thead>\n",
       "  <tbody>\n",
       "    <tr>\n",
       "      <th>1</th>\n",
       "      <td>161</td>\n",
       "      <td>38</td>\n",
       "      <td>1</td>\n",
       "      <td>54.5</td>\n",
       "      <td>12/09/16 15:37</td>\n",
       "      <td>2016-09-12 15:37:00</td>\n",
       "    </tr>\n",
       "    <tr>\n",
       "      <th>25</th>\n",
       "      <td>161</td>\n",
       "      <td>38</td>\n",
       "      <td>1</td>\n",
       "      <td>54.5</td>\n",
       "      <td>19/09/16 22:28</td>\n",
       "      <td>2016-09-19 22:28:00</td>\n",
       "    </tr>\n",
       "    <tr>\n",
       "      <th>63</th>\n",
       "      <td>161</td>\n",
       "      <td>38</td>\n",
       "      <td>1</td>\n",
       "      <td>54.5</td>\n",
       "      <td>28/09/16 16:20</td>\n",
       "      <td>2016-09-28 16:20:00</td>\n",
       "    </tr>\n",
       "    <tr>\n",
       "      <th>119</th>\n",
       "      <td>161</td>\n",
       "      <td>38</td>\n",
       "      <td>1</td>\n",
       "      <td>54.5</td>\n",
       "      <td>12/10/16 22:52</td>\n",
       "      <td>2016-10-12 22:52:00</td>\n",
       "    </tr>\n",
       "    <tr>\n",
       "      <th>152</th>\n",
       "      <td>161</td>\n",
       "      <td>38</td>\n",
       "      <td>1</td>\n",
       "      <td>54.5</td>\n",
       "      <td>26/10/16 14:54</td>\n",
       "      <td>2016-10-26 14:54:00</td>\n",
       "    </tr>\n",
       "    <tr>\n",
       "      <th>185</th>\n",
       "      <td>161</td>\n",
       "      <td>38</td>\n",
       "      <td>1</td>\n",
       "      <td>54.5</td>\n",
       "      <td>01/11/16 23:24</td>\n",
       "      <td>2016-11-01 23:24:00</td>\n",
       "    </tr>\n",
       "    <tr>\n",
       "      <th>255</th>\n",
       "      <td>161</td>\n",
       "      <td>38</td>\n",
       "      <td>1</td>\n",
       "      <td>54.5</td>\n",
       "      <td>16/11/16 16:06</td>\n",
       "      <td>2016-11-16 16:06:00</td>\n",
       "    </tr>\n",
       "  </tbody>\n",
       "</table>\n",
       "</div>"
      ],
      "text/plain": [
       "     Restaurant  Product   Quantity  Price      Ordered At  \\\n",
       "1           161       38          1   54.5  12/09/16 15:37   \n",
       "25          161       38          1   54.5  19/09/16 22:28   \n",
       "63          161       38          1   54.5  28/09/16 16:20   \n",
       "119         161       38          1   54.5  12/10/16 22:52   \n",
       "152         161       38          1   54.5  26/10/16 14:54   \n",
       "185         161       38          1   54.5  01/11/16 23:24   \n",
       "255         161       38          1   54.5  16/11/16 16:06   \n",
       "\n",
       "              Time Stamp  \n",
       "1    2016-09-12 15:37:00  \n",
       "25   2016-09-19 22:28:00  \n",
       "63   2016-09-28 16:20:00  \n",
       "119  2016-10-12 22:52:00  \n",
       "152  2016-10-26 14:54:00  \n",
       "185  2016-11-01 23:24:00  \n",
       "255  2016-11-16 16:06:00  "
      ]
     },
     "execution_count": 13,
     "metadata": {},
     "output_type": "execute_result"
    }
   ],
   "source": [
    "data_test[data_test[\"Restaurant\"] == 161]"
   ]
  },
  {
   "cell_type": "code",
   "execution_count": 14,
   "metadata": {
    "collapsed": false
   },
   "outputs": [],
   "source": [
    "data_test = add_next_order_date(data_test,161,38)"
   ]
  },
  {
   "cell_type": "code",
   "execution_count": 15,
   "metadata": {
    "collapsed": false
   },
   "outputs": [
    {
     "data": {
      "text/html": [
       "<div>\n",
       "<table border=\"1\" class=\"dataframe\">\n",
       "  <thead>\n",
       "    <tr style=\"text-align: right;\">\n",
       "      <th></th>\n",
       "      <th>Restaurant</th>\n",
       "      <th>Product</th>\n",
       "      <th>Quantity</th>\n",
       "      <th>Price</th>\n",
       "      <th>Ordered At</th>\n",
       "      <th>Time Stamp</th>\n",
       "      <th>Next Order Date</th>\n",
       "    </tr>\n",
       "  </thead>\n",
       "  <tbody>\n",
       "    <tr>\n",
       "      <th>1</th>\n",
       "      <td>161</td>\n",
       "      <td>38</td>\n",
       "      <td>1</td>\n",
       "      <td>54.5</td>\n",
       "      <td>12/09/16 15:37</td>\n",
       "      <td>2016-09-12 15:37:00</td>\n",
       "      <td>2016-09-19 22:28:00</td>\n",
       "    </tr>\n",
       "    <tr>\n",
       "      <th>25</th>\n",
       "      <td>161</td>\n",
       "      <td>38</td>\n",
       "      <td>1</td>\n",
       "      <td>54.5</td>\n",
       "      <td>19/09/16 22:28</td>\n",
       "      <td>2016-09-19 22:28:00</td>\n",
       "      <td>2016-09-28 16:20:00</td>\n",
       "    </tr>\n",
       "    <tr>\n",
       "      <th>63</th>\n",
       "      <td>161</td>\n",
       "      <td>38</td>\n",
       "      <td>1</td>\n",
       "      <td>54.5</td>\n",
       "      <td>28/09/16 16:20</td>\n",
       "      <td>2016-09-28 16:20:00</td>\n",
       "      <td>2016-10-12 22:52:00</td>\n",
       "    </tr>\n",
       "    <tr>\n",
       "      <th>119</th>\n",
       "      <td>161</td>\n",
       "      <td>38</td>\n",
       "      <td>1</td>\n",
       "      <td>54.5</td>\n",
       "      <td>12/10/16 22:52</td>\n",
       "      <td>2016-10-12 22:52:00</td>\n",
       "      <td>2016-10-26 14:54:00</td>\n",
       "    </tr>\n",
       "    <tr>\n",
       "      <th>152</th>\n",
       "      <td>161</td>\n",
       "      <td>38</td>\n",
       "      <td>1</td>\n",
       "      <td>54.5</td>\n",
       "      <td>26/10/16 14:54</td>\n",
       "      <td>2016-10-26 14:54:00</td>\n",
       "      <td>2016-11-01 23:24:00</td>\n",
       "    </tr>\n",
       "    <tr>\n",
       "      <th>185</th>\n",
       "      <td>161</td>\n",
       "      <td>38</td>\n",
       "      <td>1</td>\n",
       "      <td>54.5</td>\n",
       "      <td>01/11/16 23:24</td>\n",
       "      <td>2016-11-01 23:24:00</td>\n",
       "      <td>2016-11-16 16:06:00</td>\n",
       "    </tr>\n",
       "    <tr>\n",
       "      <th>255</th>\n",
       "      <td>161</td>\n",
       "      <td>38</td>\n",
       "      <td>1</td>\n",
       "      <td>54.5</td>\n",
       "      <td>16/11/16 16:06</td>\n",
       "      <td>2016-11-16 16:06:00</td>\n",
       "      <td>NaN</td>\n",
       "    </tr>\n",
       "  </tbody>\n",
       "</table>\n",
       "</div>"
      ],
      "text/plain": [
       "     Restaurant  Product   Quantity  Price      Ordered At  \\\n",
       "1           161       38          1   54.5  12/09/16 15:37   \n",
       "25          161       38          1   54.5  19/09/16 22:28   \n",
       "63          161       38          1   54.5  28/09/16 16:20   \n",
       "119         161       38          1   54.5  12/10/16 22:52   \n",
       "152         161       38          1   54.5  26/10/16 14:54   \n",
       "185         161       38          1   54.5  01/11/16 23:24   \n",
       "255         161       38          1   54.5  16/11/16 16:06   \n",
       "\n",
       "              Time Stamp      Next Order Date  \n",
       "1    2016-09-12 15:37:00  2016-09-19 22:28:00  \n",
       "25   2016-09-19 22:28:00  2016-09-28 16:20:00  \n",
       "63   2016-09-28 16:20:00  2016-10-12 22:52:00  \n",
       "119  2016-10-12 22:52:00  2016-10-26 14:54:00  \n",
       "152  2016-10-26 14:54:00  2016-11-01 23:24:00  \n",
       "185  2016-11-01 23:24:00  2016-11-16 16:06:00  \n",
       "255  2016-11-16 16:06:00                  NaN  "
      ]
     },
     "execution_count": 15,
     "metadata": {},
     "output_type": "execute_result"
    }
   ],
   "source": [
    "data_test[data_test[\"Restaurant\"]==161]"
   ]
  },
  {
   "cell_type": "markdown",
   "metadata": {},
   "source": [
    "This function can be modified slightly to instead provide the number of days between this order and the next order."
   ]
  },
  {
   "cell_type": "code",
   "execution_count": 16,
   "metadata": {
    "collapsed": true
   },
   "outputs": [],
   "source": [
    "def add_next_order_days (data, restaurant, product):\n",
    "    \"\"\"\n",
    "    Function that takes a data set and returns the same data set but with a new column giving the next order date next to \n",
    "    the product number given.\n",
    "    \n",
    "    \"\"\"\n",
    "    if \"Next Order Days\" not in list(data.columns):\n",
    "        data[\"Next Order Days\"] = np.nan\n",
    "    \n",
    "    tempData = data[(data[\"Restaurant\"] == restaurant) & (data[\"Product\"]==product)]\n",
    "    \n",
    "    for index, timestamp in tempData[\"Time Stamp\"].iteritems():\n",
    "        timestamp_list = []\n",
    "        next_order_found = False\n",
    "    \n",
    "        for index2, timestamp2 in tempData[\"Time Stamp\"].iteritems():\n",
    "            if timestamp2 > timestamp:\n",
    "                timestamp_list.append(timestamp2)\n",
    "                next_order_found = True\n",
    "    \n",
    "        if next_order_found:\n",
    "            next_date = min(timestamp_list)\n",
    "            days = (next_date - timestamp).days\n",
    "            data.set_value(index,\"Next Order Days\",days)     \n",
    "\n",
    "    return data"
   ]
  },
  {
   "cell_type": "code",
   "execution_count": 18,
   "metadata": {
    "collapsed": false
   },
   "outputs": [
    {
     "data": {
      "text/html": [
       "<div>\n",
       "<table border=\"1\" class=\"dataframe\">\n",
       "  <thead>\n",
       "    <tr style=\"text-align: right;\">\n",
       "      <th></th>\n",
       "      <th>Restaurant</th>\n",
       "      <th>Product</th>\n",
       "      <th>Quantity</th>\n",
       "      <th>Price</th>\n",
       "      <th>Ordered At</th>\n",
       "      <th>Time Stamp</th>\n",
       "      <th>Next Order Date</th>\n",
       "      <th>Next Order Days</th>\n",
       "    </tr>\n",
       "  </thead>\n",
       "  <tbody>\n",
       "    <tr>\n",
       "      <th>1</th>\n",
       "      <td>161</td>\n",
       "      <td>38</td>\n",
       "      <td>1</td>\n",
       "      <td>54.5</td>\n",
       "      <td>12/09/16 15:37</td>\n",
       "      <td>2016-09-12 15:37:00</td>\n",
       "      <td>2016-09-19 22:28:00</td>\n",
       "      <td>7.0</td>\n",
       "    </tr>\n",
       "    <tr>\n",
       "      <th>25</th>\n",
       "      <td>161</td>\n",
       "      <td>38</td>\n",
       "      <td>1</td>\n",
       "      <td>54.5</td>\n",
       "      <td>19/09/16 22:28</td>\n",
       "      <td>2016-09-19 22:28:00</td>\n",
       "      <td>2016-09-28 16:20:00</td>\n",
       "      <td>8.0</td>\n",
       "    </tr>\n",
       "    <tr>\n",
       "      <th>63</th>\n",
       "      <td>161</td>\n",
       "      <td>38</td>\n",
       "      <td>1</td>\n",
       "      <td>54.5</td>\n",
       "      <td>28/09/16 16:20</td>\n",
       "      <td>2016-09-28 16:20:00</td>\n",
       "      <td>2016-10-12 22:52:00</td>\n",
       "      <td>14.0</td>\n",
       "    </tr>\n",
       "    <tr>\n",
       "      <th>119</th>\n",
       "      <td>161</td>\n",
       "      <td>38</td>\n",
       "      <td>1</td>\n",
       "      <td>54.5</td>\n",
       "      <td>12/10/16 22:52</td>\n",
       "      <td>2016-10-12 22:52:00</td>\n",
       "      <td>2016-10-26 14:54:00</td>\n",
       "      <td>13.0</td>\n",
       "    </tr>\n",
       "    <tr>\n",
       "      <th>152</th>\n",
       "      <td>161</td>\n",
       "      <td>38</td>\n",
       "      <td>1</td>\n",
       "      <td>54.5</td>\n",
       "      <td>26/10/16 14:54</td>\n",
       "      <td>2016-10-26 14:54:00</td>\n",
       "      <td>2016-11-01 23:24:00</td>\n",
       "      <td>6.0</td>\n",
       "    </tr>\n",
       "    <tr>\n",
       "      <th>185</th>\n",
       "      <td>161</td>\n",
       "      <td>38</td>\n",
       "      <td>1</td>\n",
       "      <td>54.5</td>\n",
       "      <td>01/11/16 23:24</td>\n",
       "      <td>2016-11-01 23:24:00</td>\n",
       "      <td>2016-11-16 16:06:00</td>\n",
       "      <td>14.0</td>\n",
       "    </tr>\n",
       "    <tr>\n",
       "      <th>255</th>\n",
       "      <td>161</td>\n",
       "      <td>38</td>\n",
       "      <td>1</td>\n",
       "      <td>54.5</td>\n",
       "      <td>16/11/16 16:06</td>\n",
       "      <td>2016-11-16 16:06:00</td>\n",
       "      <td>NaN</td>\n",
       "      <td>NaN</td>\n",
       "    </tr>\n",
       "  </tbody>\n",
       "</table>\n",
       "</div>"
      ],
      "text/plain": [
       "     Restaurant  Product   Quantity  Price      Ordered At  \\\n",
       "1           161       38          1   54.5  12/09/16 15:37   \n",
       "25          161       38          1   54.5  19/09/16 22:28   \n",
       "63          161       38          1   54.5  28/09/16 16:20   \n",
       "119         161       38          1   54.5  12/10/16 22:52   \n",
       "152         161       38          1   54.5  26/10/16 14:54   \n",
       "185         161       38          1   54.5  01/11/16 23:24   \n",
       "255         161       38          1   54.5  16/11/16 16:06   \n",
       "\n",
       "              Time Stamp      Next Order Date  Next Order Days  \n",
       "1    2016-09-12 15:37:00  2016-09-19 22:28:00              7.0  \n",
       "25   2016-09-19 22:28:00  2016-09-28 16:20:00              8.0  \n",
       "63   2016-09-28 16:20:00  2016-10-12 22:52:00             14.0  \n",
       "119  2016-10-12 22:52:00  2016-10-26 14:54:00             13.0  \n",
       "152  2016-10-26 14:54:00  2016-11-01 23:24:00              6.0  \n",
       "185  2016-11-01 23:24:00  2016-11-16 16:06:00             14.0  \n",
       "255  2016-11-16 16:06:00                  NaN              NaN  "
      ]
     },
     "execution_count": 18,
     "metadata": {},
     "output_type": "execute_result"
    }
   ],
   "source": [
    "data_test = add_next_order_days(data_test,161,38)\n",
    "data_test[data_test[\"Restaurant\"]==161]"
   ]
  },
  {
   "cell_type": "code",
   "execution_count": 19,
   "metadata": {
    "collapsed": false
   },
   "outputs": [],
   "source": [
    "# by creating a set of all the values in the restaurant column we can then loop through all the\n",
    "# restaurants without duplication. \n",
    "resturaunt_set = set(data_test[\"Restaurant\"])\n",
    "\n",
    "for resturaunt in resturaunt_set:\n",
    "    data_test = add_next_order_days (data_test,resturaunt,38)"
   ]
  },
  {
   "cell_type": "code",
   "execution_count": 29,
   "metadata": {
    "collapsed": false
   },
   "outputs": [
    {
     "data": {
      "text/html": [
       "<div>\n",
       "<table border=\"1\" class=\"dataframe\">\n",
       "  <thead>\n",
       "    <tr style=\"text-align: right;\">\n",
       "      <th></th>\n",
       "      <th>Restaurant</th>\n",
       "      <th>Product</th>\n",
       "      <th>Quantity</th>\n",
       "      <th>Price</th>\n",
       "      <th>Ordered At</th>\n",
       "      <th>Time Stamp</th>\n",
       "      <th>Next Order Date</th>\n",
       "      <th>Next Order Days</th>\n",
       "    </tr>\n",
       "  </thead>\n",
       "  <tbody>\n",
       "    <tr>\n",
       "      <th>0</th>\n",
       "      <td>8</td>\n",
       "      <td>38</td>\n",
       "      <td>1</td>\n",
       "      <td>37.0</td>\n",
       "      <td>11/09/16 23:42</td>\n",
       "      <td>2016-09-11 23:42:00</td>\n",
       "      <td>NaN</td>\n",
       "      <td>7.0</td>\n",
       "    </tr>\n",
       "    <tr>\n",
       "      <th>1</th>\n",
       "      <td>161</td>\n",
       "      <td>38</td>\n",
       "      <td>1</td>\n",
       "      <td>54.5</td>\n",
       "      <td>12/09/16 15:37</td>\n",
       "      <td>2016-09-12 15:37:00</td>\n",
       "      <td>2016-09-19 22:28:00</td>\n",
       "      <td>7.0</td>\n",
       "    </tr>\n",
       "    <tr>\n",
       "      <th>2</th>\n",
       "      <td>177</td>\n",
       "      <td>38</td>\n",
       "      <td>1</td>\n",
       "      <td>39.0</td>\n",
       "      <td>12/09/16 15:38</td>\n",
       "      <td>2016-09-12 15:38:00</td>\n",
       "      <td>NaN</td>\n",
       "      <td>23.0</td>\n",
       "    </tr>\n",
       "    <tr>\n",
       "      <th>3</th>\n",
       "      <td>28</td>\n",
       "      <td>38</td>\n",
       "      <td>1</td>\n",
       "      <td>40.0</td>\n",
       "      <td>12/09/16 15:53</td>\n",
       "      <td>2016-09-12 15:53:00</td>\n",
       "      <td>NaN</td>\n",
       "      <td>6.0</td>\n",
       "    </tr>\n",
       "    <tr>\n",
       "      <th>4</th>\n",
       "      <td>202</td>\n",
       "      <td>38</td>\n",
       "      <td>1</td>\n",
       "      <td>54.5</td>\n",
       "      <td>12/09/16 16:03</td>\n",
       "      <td>2016-09-12 16:03:00</td>\n",
       "      <td>NaN</td>\n",
       "      <td>NaN</td>\n",
       "    </tr>\n",
       "  </tbody>\n",
       "</table>\n",
       "</div>"
      ],
      "text/plain": [
       "   Restaurant  Product   Quantity  Price      Ordered At           Time Stamp  \\\n",
       "0           8       38          1   37.0  11/09/16 23:42  2016-09-11 23:42:00   \n",
       "1         161       38          1   54.5  12/09/16 15:37  2016-09-12 15:37:00   \n",
       "2         177       38          1   39.0  12/09/16 15:38  2016-09-12 15:38:00   \n",
       "3          28       38          1   40.0  12/09/16 15:53  2016-09-12 15:53:00   \n",
       "4         202       38          1   54.5  12/09/16 16:03  2016-09-12 16:03:00   \n",
       "\n",
       "       Next Order Date  Next Order Days  \n",
       "0                  NaN              7.0  \n",
       "1  2016-09-19 22:28:00              7.0  \n",
       "2                  NaN             23.0  \n",
       "3                  NaN              6.0  \n",
       "4                  NaN              NaN  "
      ]
     },
     "execution_count": 29,
     "metadata": {},
     "output_type": "execute_result"
    }
   ],
   "source": [
    "data_test.head()"
   ]
  },
  {
   "cell_type": "markdown",
   "metadata": {},
   "source": [
    "We can create a function that calls all the functions we have previously created so that all the above data manipulation can be completed at the same time of importing the data."
   ]
  },
  {
   "cell_type": "code",
   "execution_count": 21,
   "metadata": {
    "collapsed": false
   },
   "outputs": [],
   "source": [
    "def import_data(path):\n",
    "    #import data to pandas data frame\n",
    "    data = pd.read_csv(path)\n",
    "    \n",
    "    #creat list of all the restaurants used to loop functions.\n",
    "    resturaunt_set = set(data_test[\"Restaurant\"])\n",
    "    \n",
    "    #convert ordered at to timestamp\n",
    "    data = convert_timestamp(data)\n",
    "    \n",
    "    #looping per resturaunt\n",
    "    for resturaunt in resturaunt_set:\n",
    "        data = add_next_order_days (data,resturaunt,38)\n",
    "        data = add_next_order_date (data,resturaunt,38)\n",
    "    \n",
    "    return data"
   ]
  },
  {
   "cell_type": "code",
   "execution_count": 28,
   "metadata": {
    "collapsed": false
   },
   "outputs": [
    {
     "data": {
      "text/html": [
       "<div>\n",
       "<table border=\"1\" class=\"dataframe\">\n",
       "  <thead>\n",
       "    <tr style=\"text-align: right;\">\n",
       "      <th></th>\n",
       "      <th>Restaurant</th>\n",
       "      <th>Product</th>\n",
       "      <th>Quantity</th>\n",
       "      <th>Price</th>\n",
       "      <th>Ordered At</th>\n",
       "      <th>Time Stamp</th>\n",
       "      <th>Next Order Days</th>\n",
       "      <th>Next Order Date</th>\n",
       "    </tr>\n",
       "  </thead>\n",
       "  <tbody>\n",
       "    <tr>\n",
       "      <th>0</th>\n",
       "      <td>8</td>\n",
       "      <td>38</td>\n",
       "      <td>1</td>\n",
       "      <td>37.0</td>\n",
       "      <td>11/09/16 23:42</td>\n",
       "      <td>2016-09-11 23:42:00</td>\n",
       "      <td>7.0</td>\n",
       "      <td>2016-09-19 22:25:00</td>\n",
       "    </tr>\n",
       "    <tr>\n",
       "      <th>1</th>\n",
       "      <td>161</td>\n",
       "      <td>38</td>\n",
       "      <td>1</td>\n",
       "      <td>54.5</td>\n",
       "      <td>12/09/16 15:37</td>\n",
       "      <td>2016-09-12 15:37:00</td>\n",
       "      <td>7.0</td>\n",
       "      <td>2016-09-19 22:28:00</td>\n",
       "    </tr>\n",
       "    <tr>\n",
       "      <th>2</th>\n",
       "      <td>177</td>\n",
       "      <td>38</td>\n",
       "      <td>1</td>\n",
       "      <td>39.0</td>\n",
       "      <td>12/09/16 15:38</td>\n",
       "      <td>2016-09-12 15:38:00</td>\n",
       "      <td>23.0</td>\n",
       "      <td>2016-10-06 11:50:00</td>\n",
       "    </tr>\n",
       "    <tr>\n",
       "      <th>3</th>\n",
       "      <td>28</td>\n",
       "      <td>38</td>\n",
       "      <td>1</td>\n",
       "      <td>40.0</td>\n",
       "      <td>12/09/16 15:53</td>\n",
       "      <td>2016-09-12 15:53:00</td>\n",
       "      <td>6.0</td>\n",
       "      <td>2016-09-18 22:46:00</td>\n",
       "    </tr>\n",
       "    <tr>\n",
       "      <th>4</th>\n",
       "      <td>202</td>\n",
       "      <td>38</td>\n",
       "      <td>1</td>\n",
       "      <td>54.5</td>\n",
       "      <td>12/09/16 16:03</td>\n",
       "      <td>2016-09-12 16:03:00</td>\n",
       "      <td>NaN</td>\n",
       "      <td>NaN</td>\n",
       "    </tr>\n",
       "  </tbody>\n",
       "</table>\n",
       "</div>"
      ],
      "text/plain": [
       "   Restaurant  Product   Quantity  Price      Ordered At           Time Stamp  \\\n",
       "0           8       38          1   37.0  11/09/16 23:42  2016-09-11 23:42:00   \n",
       "1         161       38          1   54.5  12/09/16 15:37  2016-09-12 15:37:00   \n",
       "2         177       38          1   39.0  12/09/16 15:38  2016-09-12 15:38:00   \n",
       "3          28       38          1   40.0  12/09/16 15:53  2016-09-12 15:53:00   \n",
       "4         202       38          1   54.5  12/09/16 16:03  2016-09-12 16:03:00   \n",
       "\n",
       "   Next Order Days      Next Order Date  \n",
       "0              7.0  2016-09-19 22:25:00  \n",
       "1              7.0  2016-09-19 22:28:00  \n",
       "2             23.0  2016-10-06 11:50:00  \n",
       "3              6.0  2016-09-18 22:46:00  \n",
       "4              NaN                  NaN  "
      ]
     },
     "execution_count": 28,
     "metadata": {},
     "output_type": "execute_result"
    }
   ],
   "source": [
    "new_test_data = import_data(\"data.csv\")\n",
    "new_test_data.head()"
   ]
  },
  {
   "cell_type": "markdown",
   "metadata": {},
   "source": [
    "## Data analysis and predictions\n",
    "Create new function which sums up all the orders per restaurant and saves this info in a new data frame."
   ]
  },
  {
   "cell_type": "code",
   "execution_count": 24,
   "metadata": {
    "collapsed": false
   },
   "outputs": [],
   "source": [
    "def resturaunt_orders_count(data, product):\n",
    "    resturaunt_set = set(data[\"Restaurant\"])\n",
    "    orders_count = pd.DataFrame(columns = (\"Restaurant\",\"Total Orders\"))\n",
    "\n",
    "    for temp_restaurant in resturaunt_set:\n",
    "        count = data[\"Product\"][data[\"Restaurant\"]==temp_restaurant].count()\n",
    "        temp_frame = pd.DataFrame(data = [[temp_restaurant,count]],columns=[\"Restaurant\",\"Total Orders\"])\n",
    "        orders_count = orders_count.append(temp_frame)\n",
    "\n",
    "    orders_count = orders_count.reset_index(drop=True)\n",
    "        \n",
    "    return orders_count\n",
    "    "
   ]
  },
  {
   "cell_type": "code",
   "execution_count": 25,
   "metadata": {
    "collapsed": false
   },
   "outputs": [],
   "source": [
    "test_rank = resturaunt_orders_count(new_test_data,38)"
   ]
  },
  {
   "cell_type": "code",
   "execution_count": 27,
   "metadata": {
    "collapsed": false
   },
   "outputs": [
    {
     "data": {
      "text/html": [
       "<div>\n",
       "<table border=\"1\" class=\"dataframe\">\n",
       "  <thead>\n",
       "    <tr style=\"text-align: right;\">\n",
       "      <th></th>\n",
       "      <th>Restaurant</th>\n",
       "      <th>Total Orders</th>\n",
       "    </tr>\n",
       "  </thead>\n",
       "  <tbody>\n",
       "    <tr>\n",
       "      <th>31</th>\n",
       "      <td>84.0</td>\n",
       "      <td>48.0</td>\n",
       "    </tr>\n",
       "    <tr>\n",
       "      <th>12</th>\n",
       "      <td>28.0</td>\n",
       "      <td>36.0</td>\n",
       "    </tr>\n",
       "    <tr>\n",
       "      <th>75</th>\n",
       "      <td>227.0</td>\n",
       "      <td>26.0</td>\n",
       "    </tr>\n",
       "    <tr>\n",
       "      <th>24</th>\n",
       "      <td>73.0</td>\n",
       "      <td>25.0</td>\n",
       "    </tr>\n",
       "    <tr>\n",
       "      <th>63</th>\n",
       "      <td>174.0</td>\n",
       "      <td>24.0</td>\n",
       "    </tr>\n",
       "  </tbody>\n",
       "</table>\n",
       "</div>"
      ],
      "text/plain": [
       "    Restaurant  Total Orders\n",
       "31        84.0          48.0\n",
       "12        28.0          36.0\n",
       "75       227.0          26.0\n",
       "24        73.0          25.0\n",
       "63       174.0          24.0"
      ]
     },
     "execution_count": 27,
     "metadata": {},
     "output_type": "execute_result"
    }
   ],
   "source": [
    "test_rank.sort_values(\"Total Orders\", ascending=False).head()"
   ]
  },
  {
   "cell_type": "markdown",
   "metadata": {},
   "source": [
    "## Prediction Function\n",
    "\n",
    "2No. functions which aim to predict the date the restaurant will make their next order based on how long it has been between orders previously. "
   ]
  },
  {
   "cell_type": "code",
   "execution_count": 30,
   "metadata": {
    "collapsed": false
   },
   "outputs": [],
   "source": [
    "def dto_mean_predict(data,restaurant,product):\n",
    "    \"\"\"\n",
    "    \n",
    "    \"\"\"\n",
    "    temp_data = data[:][(data[\"Restaurant\"]==restaurant)&(data[\"Product\"]==product)]\n",
    "    days_predict = temp_data[\"Next Order Days\"].mean()\n",
    "    last_order = temp_data[\"Time Stamp\"][temp_data[\"Next Order Date\"].isnull()].all()\n",
    "    print(type(last_order))\n",
    "    order_date_predict = last_order + pd.Timedelta(days_predict,'d')\n",
    "    return order_date_predict\n",
    "\n",
    "def dto_median_predict(data,restaurant,product):\n",
    "    \"\"\"\n",
    "    \n",
    "    \"\"\"\n",
    "    temp_data = data[:][(data[\"Restaurant\"]==restaurant)&(data[\"Product\"]==product)]\n",
    "    days_predict = temp_data[\"Next Order Days\"].median()\n",
    "    last_order = temp_data[\"Time Stamp\"][temp_data[\"Next Order Date\"].isnull()].all()\n",
    "    print(type(last_order))\n",
    "    order_date_predict = last_order + pd.Timedelta(days_predict,'d')\n",
    "    return order_date_predict"
   ]
  },
  {
   "cell_type": "code",
   "execution_count": 34,
   "metadata": {
    "collapsed": false
   },
   "outputs": [
    {
     "data": {
      "text/html": [
       "<div>\n",
       "<table border=\"1\" class=\"dataframe\">\n",
       "  <thead>\n",
       "    <tr style=\"text-align: right;\">\n",
       "      <th></th>\n",
       "      <th>Restaurant</th>\n",
       "      <th>Product</th>\n",
       "      <th>Quantity</th>\n",
       "      <th>Price</th>\n",
       "      <th>Ordered At</th>\n",
       "      <th>Time Stamp</th>\n",
       "      <th>Next Order Days</th>\n",
       "      <th>Next Order Date</th>\n",
       "    </tr>\n",
       "  </thead>\n",
       "  <tbody>\n",
       "    <tr>\n",
       "      <th>776</th>\n",
       "      <td>84</td>\n",
       "      <td>38</td>\n",
       "      <td>1</td>\n",
       "      <td>45.0</td>\n",
       "      <td>22/01/17 22:04</td>\n",
       "      <td>2017-01-22 22:04:00</td>\n",
       "      <td>3.0</td>\n",
       "      <td>2017-01-25 23:54:00</td>\n",
       "    </tr>\n",
       "    <tr>\n",
       "      <th>802</th>\n",
       "      <td>84</td>\n",
       "      <td>38</td>\n",
       "      <td>1</td>\n",
       "      <td>45.0</td>\n",
       "      <td>25/01/17 23:54</td>\n",
       "      <td>2017-01-25 23:54:00</td>\n",
       "      <td>4.0</td>\n",
       "      <td>2017-01-29 23:56:00</td>\n",
       "    </tr>\n",
       "    <tr>\n",
       "      <th>834</th>\n",
       "      <td>84</td>\n",
       "      <td>38</td>\n",
       "      <td>1</td>\n",
       "      <td>45.0</td>\n",
       "      <td>29/01/17 23:56</td>\n",
       "      <td>2017-01-29 23:56:00</td>\n",
       "      <td>1.0</td>\n",
       "      <td>2017-01-31 23:48:00</td>\n",
       "    </tr>\n",
       "    <tr>\n",
       "      <th>846</th>\n",
       "      <td>84</td>\n",
       "      <td>38</td>\n",
       "      <td>1</td>\n",
       "      <td>45.0</td>\n",
       "      <td>31/01/17 23:48</td>\n",
       "      <td>2017-01-31 23:48:00</td>\n",
       "      <td>3.0</td>\n",
       "      <td>2017-02-04 01:08:00</td>\n",
       "    </tr>\n",
       "    <tr>\n",
       "      <th>893</th>\n",
       "      <td>84</td>\n",
       "      <td>38</td>\n",
       "      <td>1</td>\n",
       "      <td>45.0</td>\n",
       "      <td>04/02/17 01:08</td>\n",
       "      <td>2017-02-04 01:08:00</td>\n",
       "      <td>NaN</td>\n",
       "      <td>NaN</td>\n",
       "    </tr>\n",
       "  </tbody>\n",
       "</table>\n",
       "</div>"
      ],
      "text/plain": [
       "     Restaurant  Product   Quantity  Price      Ordered At  \\\n",
       "776          84       38          1   45.0  22/01/17 22:04   \n",
       "802          84       38          1   45.0  25/01/17 23:54   \n",
       "834          84       38          1   45.0  29/01/17 23:56   \n",
       "846          84       38          1   45.0  31/01/17 23:48   \n",
       "893          84       38          1   45.0  04/02/17 01:08   \n",
       "\n",
       "              Time Stamp  Next Order Days      Next Order Date  \n",
       "776  2017-01-22 22:04:00              3.0  2017-01-25 23:54:00  \n",
       "802  2017-01-25 23:54:00              4.0  2017-01-29 23:56:00  \n",
       "834  2017-01-29 23:56:00              1.0  2017-01-31 23:48:00  \n",
       "846  2017-01-31 23:48:00              3.0  2017-02-04 01:08:00  \n",
       "893  2017-02-04 01:08:00              NaN                  NaN  "
      ]
     },
     "metadata": {},
     "output_type": "display_data"
    },
    {
     "name": "stdout",
     "output_type": "stream",
     "text": [
      "<class 'pandas.tslib.Timestamp'>\n"
     ]
    },
    {
     "data": {
      "text/plain": [
       "Timestamp('2017-02-06 14:24:35.702400')"
      ]
     },
     "execution_count": 34,
     "metadata": {},
     "output_type": "execute_result"
    }
   ],
   "source": [
    "display(new_test_data[:][new_test_data[\"Restaurant\"] == 84].tail())\n",
    "dto_mean_predict(new_test_data,84,38)"
   ]
  },
  {
   "cell_type": "code",
   "execution_count": 35,
   "metadata": {
    "collapsed": false
   },
   "outputs": [
    {
     "name": "stdout",
     "output_type": "stream",
     "text": [
      "<class 'pandas.tslib.Timestamp'>\n"
     ]
    },
    {
     "data": {
      "text/plain": [
       "Timestamp('2017-02-06 01:08:00')"
      ]
     },
     "execution_count": 35,
     "metadata": {},
     "output_type": "execute_result"
    }
   ],
   "source": [
    "dto_median_predict(new_test_data,84,38)"
   ]
  },
  {
   "cell_type": "markdown",
   "metadata": {},
   "source": [
    "Based on the prediction above and data currently loaded into new_test_data the next order for this product by restaurant 84 should be on 06/02/2017. "
   ]
  },
  {
   "cell_type": "code",
   "execution_count": null,
   "metadata": {
    "collapsed": false
   },
   "outputs": [],
   "source": [
    "other_data = pd.read_csv('data1.csv')\n",
    "other_data.tail()"
   ]
  },
  {
   "cell_type": "code",
   "execution_count": null,
   "metadata": {
    "collapsed": true
   },
   "outputs": [],
   "source": []
  }
 ],
 "metadata": {
  "anaconda-cloud": {},
  "hide_input": false,
  "kernelspec": {
   "display_name": "Python [default]",
   "language": "python",
   "name": "python3"
  },
  "language_info": {
   "codemirror_mode": {
    "name": "ipython",
    "version": 3
   },
   "file_extension": ".py",
   "mimetype": "text/x-python",
   "name": "python",
   "nbconvert_exporter": "python",
   "pygments_lexer": "ipython3",
   "version": "3.5.2"
  }
 },
 "nbformat": 4,
 "nbformat_minor": 1
}
