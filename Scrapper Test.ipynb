{
 "cells": [
  {
   "cell_type": "code",
   "execution_count": 1,
   "metadata": {
    "collapsed": false
   },
   "outputs": [],
   "source": [
    "import requests\n",
    "import re\n",
    "import json\n",
    "from bs4 import BeautifulSoup\n",
    "import numpy as np\n",
    "import pandas as pd\n"
   ]
  },
  {
   "cell_type": "code",
   "execution_count": 2,
   "metadata": {
    "collapsed": false
   },
   "outputs": [],
   "source": [
    "def find_cuisine(soup):\n",
    "    \"\"\"\n",
    "    Takes a tripadvisor url and returns a list of types of cuisine that restaurant serves\n",
    "    \n",
    "    \"\"\"\n",
    "    cuisine_list = []\n",
    "    \n",
    "    #soup.prettify\n",
    "    text = soup.text\n",
    "    \n",
    "    #not a very clean way of doing this, this object seems to be used on all tripadvisor review pages\n",
    "    #the below find this in the html and splits it to give a list of cuisines\n",
    "    cuisine_type = text.split(\"ta.common.dmp.store.setBehaviors\")[1].split(\";\")[0].split(\"CuisineType\")[1].split(\",\")\n",
    "    \n",
    "    for i in cuisine_type:\n",
    "        #print(re.sub(r'[^\\w]','',i))\n",
    "        #loops throught the cuisines and cleans up any formating left over from the html\n",
    "        #then appends the clean cuisine tag\n",
    "        cuisine_list.append(re.sub(r'[^\\w]','',i))\n",
    "    \n",
    "    return cuisine_list\n",
    "\n",
    "def find_rating(soup):\n",
    "    \"\"\"\n",
    "    Takes a tripadvisor url and returns a list of types of cuisine that restaurant serves\n",
    "    \n",
    "    \"\"\"\n",
    "    \n",
    "    \n",
    "    #soup.prettify\n",
    "    text = soup.text\n",
    "    \n",
    "    #not a very clean way of doing this, this object seems to be used on all tripadvisor review pages\n",
    "    #the below find this in the html and splits it to give a list of cuisines\n",
    "    rating = text.split(\"ta.common.dmp.store.setBehaviors\")[1].split(\";\")[0].split(\"RestaurantRating\")[1].split(\",\")[0]\n",
    "    rating = float(rating.split('[')[1].split('\\n')[1].split('\"')[1])\n",
    "    #rating = rating.split('\\n')\n",
    "    \n",
    "    \n",
    "    return rating\n",
    "\n",
    "def find_price(soup):\n",
    "    \n",
    "    prices = soup.text.split('Average prices')[1].split('Cuisine')[0]\n",
    "    prices = re.sub('\\n',\"\",prices)\n",
    "    prices = re.sub('£','',prices)\n",
    "    prices = re.sub('€','',prices)\n",
    "    prices = re.sub(' ','',prices)\n",
    "    prices = prices.split('-')    \n",
    "    \n",
    "    return prices\n",
    "\n",
    "\n",
    "\n",
    "\n",
    "def find_ta_url(restaurant, location):\n",
    "    \"\"\"\n",
    "    takes in a restaurant name and location which is then used as a search term on \n",
    "    tripadvisor and uses the find cuisine function to return a non duplicating list\n",
    "    of cuisines.\n",
    "    \n",
    "    \"\"\"\n",
    "    \n",
    "    search_terms = str(restaurant+'+'+location+'tripadvisor')\n",
    "    google_url = 'http://www.google.com/search'\n",
    "    #print(search_terms)\n",
    "    \n",
    "    cuisine_list =[]\n",
    "    rating = np.nan\n",
    "    prices = np.nan\n",
    "    \n",
    "    #Parameters in payload\n",
    "    payload = { 'q' : search_terms, 'start' : '0' }\n",
    " \n",
    "    #Setting User-Agent\n",
    "    my_headers = { 'User-agent' : 'Mozilla/11.0' }\n",
    " \n",
    "    #Getting the response in an Object r\n",
    "    r = requests.get( google_url, params = payload, headers = my_headers )\n",
    " \n",
    "    google_soup = BeautifulSoup(r.content,\"lxml\")\n",
    "    \n",
    "    tags = google_soup.find_all('h3',class_='r')\n",
    "    \n",
    "    resaurant_found = False\n",
    "    \n",
    "    for i in tags:\n",
    "    \n",
    "        if resaurant_found == False:\n",
    "            \n",
    "            try:\n",
    "                url = re.search('url\\?q=(.+?)\\&sa',i.a['href']).group(1)\n",
    "                if \"tripadvisor\" in url:\n",
    "                    response = requests.get(url)\n",
    "                    soup = BeautifulSoup(response.content,\"lxml\")\n",
    "                    \n",
    "                    \n",
    "                    cuisine = find_cuisine(soup)\n",
    "                   # print(url)\n",
    "                    for item in cuisine:\n",
    "                        if item not in cuisine_list:\n",
    "                            cuisine_list.append(item)\n",
    "                            \n",
    "                    resaurant_found = True\n",
    "                            \n",
    "                    temp_rating = find_rating(soup)\n",
    "                    \n",
    "                    if isinstance(temp_rating,float):\n",
    "                        rating = temp_rating\n",
    "                    \n",
    "                    prices = find_price(soup)\n",
    "                    \n",
    "                    \n",
    "                \n",
    "            except:\n",
    "                #print(\"fail\")\n",
    "                continue\n",
    "    \n",
    "    return cuisine_list , rating , prices,url\n",
    "#End"
   ]
  },
  {
   "cell_type": "code",
   "execution_count": 3,
   "metadata": {
    "collapsed": false
   },
   "outputs": [
    {
     "data": {
      "text/plain": [
       "(['Irish', 'European', 'British'],\n",
       " 4.5,\n",
       " ['17'],\n",
       " 'https://www.tripadvisor.co.uk/Restaurant_Review-g186482-d2213902-Reviews-The_Sooty_Olive_Restaurant-Derry_County_Londonderry_Northern_Ireland.html')"
      ]
     },
     "execution_count": 3,
     "metadata": {},
     "output_type": "execute_result"
    }
   ],
   "source": [
    "find_ta_url('sooty olive','londonderry')"
   ]
  },
  {
   "cell_type": "code",
   "execution_count": 4,
   "metadata": {
    "collapsed": false
   },
   "outputs": [],
   "source": [
    "category = pd.read_csv('/Users/Luke/Downloads/restaurants.csv',names=['restaurant_name','address_1','address_2',\n",
    "                                                                      'address_3','address_4','address_5'])\n",
    "category[\"cuisine\"]=''\n",
    "category[\"rating\"]=np.nan\n",
    "category['price_min']=np.nan\n",
    "category['price_max']=np.nan\n",
    "category['ta_url']=\"\""
   ]
  },
  {
   "cell_type": "code",
   "execution_count": null,
   "metadata": {
    "collapsed": false
   },
   "outputs": [],
   "source": [
    "for index, value in category['restaurant_name'].iteritems():\n",
    "    try:\n",
    "        cuisine,rating,price,url = find_ta_url(str(value),category['address_3'][index])\n",
    "        category.set_value(index,'ta_url',url)\n",
    "        category.set_value(index,'cuisine',(cuisine[0]))\n",
    "        category.set_value(index,'rating',rating)\n",
    "        category.set_value(index,'price_min',(price[0]))\n",
    "        category.set_value(index,'price_max',(price[1]))\n",
    "        \n",
    "    \n",
    "    except:\n",
    "        continue"
   ]
  },
  {
   "cell_type": "code",
   "execution_count": null,
   "metadata": {
    "collapsed": true
   },
   "outputs": [],
   "source": []
  }
 ],
 "metadata": {
  "anaconda-cloud": {},
  "kernelspec": {
   "display_name": "Python [default]",
   "language": "python",
   "name": "python3"
  },
  "language_info": {
   "codemirror_mode": {
    "name": "ipython",
    "version": 3
   },
   "file_extension": ".py",
   "mimetype": "text/x-python",
   "name": "python",
   "nbconvert_exporter": "python",
   "pygments_lexer": "ipython3",
   "version": "3.5.2"
  }
 },
 "nbformat": 4,
 "nbformat_minor": 1
}
